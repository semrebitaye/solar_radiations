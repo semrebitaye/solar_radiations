{
 "cells": [
  {
   "cell_type": "code",
   "execution_count": null,
   "id": "847127f2-9e7d-4fa3-ad61-59ef4c4e3f9f",
   "metadata": {},
   "outputs": [],
   "source": [
    "import pandas as pd\n",
    "import matplotlib.pyplot as plt\n",
    "\n",
    "# Load the Benin data\n",
    "benin_file_path = 'data/benin-malanville.csv'\n",
    "df_benin = pd.read_csv(benin_file_path)\n",
    "# to see the overview of the data\n",
    "df_benin.head()"
   ]
  }
 ],
 "metadata": {
  "kernelspec": {
   "display_name": "Python 3 (ipykernel)",
   "language": "python",
   "name": "python3"
  },
  "language_info": {
   "codemirror_mode": {
    "name": "ipython",
    "version": 3
   },
   "file_extension": ".py",
   "mimetype": "text/x-python",
   "name": "python",
   "nbconvert_exporter": "python",
   "pygments_lexer": "ipython3",
   "version": "3.10.12"
  }
 },
 "nbformat": 4,
 "nbformat_minor": 5
}
